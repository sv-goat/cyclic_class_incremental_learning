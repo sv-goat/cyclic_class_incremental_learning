{
 "cells": [
  {
   "cell_type": "code",
   "execution_count": 11,
   "id": "79160812-6de9-404e-99a4-f03d88847b75",
   "metadata": {
    "tags": []
   },
   "outputs": [],
   "source": [
    "import numpy as np\n",
    "from matplotlib import pyplot as plt\n",
    "import os\n",
    "import csv"
   ]
  },
  {
   "cell_type": "code",
   "execution_count": 12,
   "id": "88ab9a2a-b687-4a09-981e-b147ed10e0fc",
   "metadata": {
    "tags": []
   },
   "outputs": [],
   "source": [
    "results_path = 'results'\n",
    "\n",
    "batch_wise_results = []\n",
    "\n",
    "for root, dirs, files in os.walk(results_path):\n",
    "    for d in dirs:\n",
    "        batch_wise_results.append(os.path.join(root, d))"
   ]
  },
  {
   "cell_type": "code",
   "execution_count": 13,
   "id": "bd68f48e-eadd-4a95-93c8-68ac57646054",
   "metadata": {
    "tags": []
   },
   "outputs": [
    {
     "name": "stdout",
     "output_type": "stream",
     "text": [
      "['results/128', 'results/512', 'results/256', 'results/64', 'results/32', 'results/1024']\n"
     ]
    }
   ],
   "source": [
    "print(batch_wise_results)"
   ]
  },
  {
   "cell_type": "code",
   "execution_count": 6,
   "id": "d0d3e788-fb1d-48f8-ae93-a44a681665e2",
   "metadata": {
    "tags": []
   },
   "outputs": [
    {
     "name": "stdout",
     "output_type": "stream",
     "text": [
      "Batch Size: 128.0, Classes Trained: 5.0, Learning Rate: 1e-05\n",
      "Batch Size: 128.0, Classes Trained: 7.0, Learning Rate: 1e-06\n",
      "Batch Size: 128.0, Classes Trained: 4.0, Learning Rate: 1e-06\n",
      "Batch Size: 128.0, Classes Trained: 3.0, Learning Rate: 1e-06\n",
      "Batch Size: 128.0, Classes Trained: 4.0, Learning Rate: 0.001\n",
      "Batch Size: 128.0, Classes Trained: 10.0, Learning Rate: 0.0001\n",
      "Batch Size: 128.0, Classes Trained: 5.0, Learning Rate: 0.001\n",
      "Batch Size: 128.0, Classes Trained: 3.0, Learning Rate: 0.0001\n",
      "Batch Size: 128.0, Classes Trained: 10.0, Learning Rate: 0.001\n",
      "Batch Size: 128.0, Classes Trained: 10.0, Learning Rate: 1e-06\n",
      "Batch Size: 128.0, Classes Trained: 6.0, Learning Rate: 1e-05\n",
      "Batch Size: 128.0, Classes Trained: 7.0, Learning Rate: 0.0001\n",
      "Batch Size: 128.0, Classes Trained: 9.0, Learning Rate: 1e-05\n",
      "Batch Size: 128.0, Classes Trained: 6.0, Learning Rate: 1e-06\n",
      "Batch Size: 128.0, Classes Trained: 3.0, Learning Rate: 1e-05\n",
      "Batch Size: 128.0, Classes Trained: 8.0, Learning Rate: 1e-05\n",
      "Batch Size: 128.0, Classes Trained: 9.0, Learning Rate: 1e-06\n",
      "Batch Size: 128.0, Classes Trained: 6.0, Learning Rate: 0.0001\n",
      "Batch Size: 128.0, Classes Trained: 6.0, Learning Rate: 0.001\n",
      "Batch Size: 128.0, Classes Trained: 9.0, Learning Rate: 0.0001\n",
      "Batch Size: 128.0, Classes Trained: 3.0, Learning Rate: 0.001\n",
      "Batch Size: 128.0, Classes Trained: 7.0, Learning Rate: 1e-05\n",
      "Batch Size: 128.0, Classes Trained: 2.0, Learning Rate: 1e-05\n",
      "Batch Size: 128.0, Classes Trained: 8.0, Learning Rate: 0.0001\n",
      "Batch Size: 128.0, Classes Trained: 4.0, Learning Rate: 0.0001\n",
      "Batch Size: 128.0, Classes Trained: 2.0, Learning Rate: 1e-06\n",
      "Batch Size: 128.0, Classes Trained: 8.0, Learning Rate: 1e-06\n",
      "Batch Size: 128.0, Classes Trained: 8.0, Learning Rate: 0.001\n",
      "Batch Size: 128.0, Classes Trained: 2.0, Learning Rate: 0.0001\n",
      "Batch Size: 128.0, Classes Trained: 10.0, Learning Rate: 1e-05\n",
      "Batch Size: 128.0, Classes Trained: 5.0, Learning Rate: 1e-06\n",
      "Batch Size: 128.0, Classes Trained: 7.0, Learning Rate: 0.001\n",
      "Batch Size: 128.0, Classes Trained: 5.0, Learning Rate: 0.0001\n",
      "Batch Size: 128.0, Classes Trained: 2.0, Learning Rate: 0.001\n",
      "Batch Size: 128.0, Classes Trained: 9.0, Learning Rate: 0.001\n",
      "Batch Size: 128.0, Classes Trained: 4.0, Learning Rate: 1e-05\n"
     ]
    },
    {
     "ename": "ValueError",
     "evalue": "could not convert string to float: '1e-06-checkpoint'",
     "output_type": "error",
     "traceback": [
      "\u001b[0;31m---------------------------------------------------------------------------\u001b[0m",
      "\u001b[0;31mValueError\u001b[0m                                Traceback (most recent call last)",
      "Cell \u001b[0;32mIn[6], line 10\u001b[0m\n\u001b[1;32m      8\u001b[0m \u001b[38;5;28;01mfor\u001b[39;00m root, dirs, files \u001b[38;5;129;01min\u001b[39;00m os\u001b[38;5;241m.\u001b[39mwalk(path):\n\u001b[1;32m      9\u001b[0m     \u001b[38;5;28;01mfor\u001b[39;00m f \u001b[38;5;129;01min\u001b[39;00m files:\n\u001b[0;32m---> 10\u001b[0m         batch_size, classes_trained, learning_rate \u001b[38;5;241m=\u001b[39m \u001b[38;5;28;43mlist\u001b[39;49m\u001b[43m(\u001b[49m\u001b[38;5;28;43mmap\u001b[39;49m\u001b[43m(\u001b[49m\u001b[38;5;28;43mfloat\u001b[39;49m\u001b[43m,\u001b[49m\u001b[43m \u001b[49m\u001b[38;5;28;43mlist\u001b[39;49m\u001b[43m(\u001b[49m\u001b[43mf\u001b[49m\u001b[43m[\u001b[49m\u001b[43m:\u001b[49m\u001b[38;5;241;43m-\u001b[39;49m\u001b[38;5;241;43m4\u001b[39;49m\u001b[43m]\u001b[49m\u001b[38;5;241;43m.\u001b[39;49m\u001b[43msplit\u001b[49m\u001b[43m(\u001b[49m\u001b[38;5;124;43m\"\u001b[39;49m\u001b[38;5;124;43m_\u001b[39;49m\u001b[38;5;124;43m\"\u001b[39;49m\u001b[43m)\u001b[49m\u001b[43m)\u001b[49m\u001b[43m)\u001b[49m\u001b[43m)\u001b[49m\n\u001b[1;32m     11\u001b[0m         \u001b[38;5;28mprint\u001b[39m(\u001b[38;5;124mf\u001b[39m\u001b[38;5;124m\"\u001b[39m\u001b[38;5;124mBatch Size: \u001b[39m\u001b[38;5;132;01m{\u001b[39;00mbatch_size\u001b[38;5;132;01m}\u001b[39;00m\u001b[38;5;124m, Classes Trained: \u001b[39m\u001b[38;5;132;01m{\u001b[39;00mclasses_trained\u001b[38;5;132;01m}\u001b[39;00m\u001b[38;5;124m, Learning Rate: \u001b[39m\u001b[38;5;132;01m{\u001b[39;00mlearning_rate\u001b[38;5;132;01m}\u001b[39;00m\u001b[38;5;124m\"\u001b[39m)\n\u001b[1;32m     13\u001b[0m         input_file_path \u001b[38;5;241m=\u001b[39m os\u001b[38;5;241m.\u001b[39mpath\u001b[38;5;241m.\u001b[39mjoin(root, f)\n",
      "\u001b[0;31mValueError\u001b[0m: could not convert string to float: '1e-06-checkpoint'"
     ]
    }
   ],
   "source": [
    "import os\n",
    "import csv\n",
    "\n",
    "temp_file = \"temp.csv\"\n",
    "output_root = \"results_true\"\n",
    "\n",
    "for path in batch_wise_results:\n",
    "    for root, dirs, files in os.walk(path):\n",
    "        for f in files:\n",
    "            batch_size, classes_trained, learning_rate = list(map(float, list(f[:-4].split(\"_\"))))\n",
    "            print(f\"Batch Size: {batch_size}, Classes Trained: {classes_trained}, Learning Rate: {learning_rate}\")\n",
    "\n",
    "            input_file_path = os.path.join(root, f)\n",
    "\n",
    "            # Compute the relative path from the original root to this file\n",
    "            relative_subpath = os.path.relpath(root, start=path)\n",
    "            output_dir = os.path.join(output_root, relative_subpath)\n",
    "            os.makedirs(output_dir, exist_ok=True)\n",
    "\n",
    "            output_file_path = os.path.join(output_dir, f)\n",
    "\n",
    "            with open(input_file_path, newline='') as csvfile, open(temp_file, 'w', newline='') as temp_csvfile:\n",
    "                reader = csv.reader(csvfile)\n",
    "                writer = csv.writer(temp_csvfile)\n",
    "\n",
    "                header = next(reader)  # Skip the header row\n",
    "                writer.writerow(header)\n",
    "                c = 0\n",
    "                for row in reader:\n",
    "                    clas = row[2]\n",
    "                    total_class = row[3]\n",
    "                    if int(clas) == int(total_class) - 1:\n",
    "                        row[2] = c\n",
    "                        c += 1\n",
    "                        c = c % int(total_class)\n",
    "                        writer.writerow(row)\n",
    "\n",
    "            os.replace(temp_file, output_file_path)\n",
    "\n",
    "# Just in case: check and remove temp file if it still exists\n",
    "if os.path.exists(tempfile):\n",
    "    os.remove(tempfile)"
   ]
  }
 ],
 "metadata": {
  "kernelspec": {
   "display_name": "Python 3",
   "language": "python",
   "name": "python3"
  },
  "language_info": {
   "codemirror_mode": {
    "name": "ipython",
    "version": 3
   },
   "file_extension": ".py",
   "mimetype": "text/x-python",
   "name": "python",
   "nbconvert_exporter": "python",
   "pygments_lexer": "ipython3",
   "version": "3.10.15"
  }
 },
 "nbformat": 4,
 "nbformat_minor": 5
}
