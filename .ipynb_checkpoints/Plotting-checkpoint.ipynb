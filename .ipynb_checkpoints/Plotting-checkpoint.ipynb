{
 "cells": [
  {
   "cell_type": "code",
   "execution_count": 11,
   "id": "79160812-6de9-404e-99a4-f03d88847b75",
   "metadata": {
    "tags": []
   },
   "outputs": [],
   "source": [
    "import numpy as np\n",
    "from matplotlib import pyplot as plt\n",
    "import os\n",
    "import csv"
   ]
  },
  {
   "cell_type": "code",
   "execution_count": 12,
   "id": "88ab9a2a-b687-4a09-981e-b147ed10e0fc",
   "metadata": {
    "tags": []
   },
   "outputs": [],
   "source": [
    "results_path = 'results'\n",
    "\n",
    "batch_wise_results = []\n",
    "\n",
    "for root, dirs, files in os.walk(results_path):\n",
    "    for d in dirs:\n",
    "        batch_wise_results.append(os.path.join(root, d))"
   ]
  }
 ],
 "metadata": {
  "kernelspec": {
   "display_name": "Python 3",
   "language": "python",
   "name": "python3"
  },
  "language_info": {
   "codemirror_mode": {
    "name": "ipython",
    "version": 3
   },
   "file_extension": ".py",
   "mimetype": "text/x-python",
   "name": "python",
   "nbconvert_exporter": "python",
   "pygments_lexer": "ipython3",
   "version": "3.10.15"
  }
 },
 "nbformat": 4,
 "nbformat_minor": 5
}
