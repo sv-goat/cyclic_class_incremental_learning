{
 "cells": [
  {
   "cell_type": "code",
   "id": "initial_id",
   "metadata": {
    "collapsed": true,
    "ExecuteTime": {
     "end_time": "2025-05-08T02:08:02.382783Z",
     "start_time": "2025-05-08T02:08:00.491959Z"
    }
   },
   "source": [
    "# imports\n",
    "import torch\n",
    "import torch.nn as nn\n",
    "import torch.optim as optim\n",
    "from torch.utils.data import TensorDataset, DataLoader\n",
    "import random\n",
    "from mnist1d.data import make_dataset, get_dataset_args\n",
    "from training_scripts.class_incremental_model import ClassIncrementalModel\n",
    "\n",
    "\n",
    "\n"
   ],
   "outputs": [],
   "execution_count": 1
  },
  {
   "metadata": {
    "ExecuteTime": {
     "end_time": "2025-05-08T02:08:02.408411Z",
     "start_time": "2025-05-08T02:08:02.403719Z"
    }
   },
   "cell_type": "code",
   "source": [
    "def training_loop_verification(input_size, num_classes, class_wise_data, class_dataloaders_test, save_path, lr = 0.001, num_samples = 32):\n",
    "    # define the model and the parameters\n",
    "    device = torch.device(\"cuda:0\" if torch.cuda.is_available() else \"cpu\")\n",
    "    model = ClassIncrementalModel(input_size, num_classes).to(device)\n",
    "    criterion = nn.CrossEntropyLoss()\n",
    "    optimizer = optim.Adam(model.parameters(), lr=lr)\n",
    "\n",
    "    # dataset parameter\n",
    "    batch_size = 32\n",
    "    max_cycles = 5000\n",
    "\n",
    "    # define the training loop\n",
    "    for cycle in range(max_cycles):\n",
    "\n",
    "        # create dataset for each class\n",
    "        class_datasets = {}\n",
    "        for i in range(num_classes):\n",
    "            sampled_data = random.sample(class_wise_data[i],\n",
    "                                         min(len(class_wise_data[i]), num_samples))  # Permute and limit to num_samples\n",
    "            class_datasets[i] = TensorDataset(torch.stack([torch.FloatTensor(item[0]) for item in sampled_data]),\n",
    "                                              torch.LongTensor([item[1] for item in sampled_data]))\n",
    "\n",
    "        # create a dataloader for each class\n",
    "        class_dataloaders = {}\n",
    "        for i in range(num_classes):\n",
    "            class_dataloaders[i] = DataLoader(class_datasets[i], batch_size=batch_size, shuffle=True)\n",
    "\n",
    "        for cla in range(num_classes):\n",
    "            model.train()\n",
    "            for inputs, labels in class_dataloaders[cla]:\n",
    "                # Training step\n",
    "                inputs = inputs.to(device)\n",
    "                labels = labels.to(device)\n",
    "                optimizer.zero_grad()\n",
    "                outputs = model(inputs)\n",
    "                loss = criterion(outputs, labels)\n",
    "                loss.backward()\n",
    "                optimizer.step()\n",
    "\n",
    "        torch.cuda.empty_cache()\n",
    "        del inputs, labels, outputs\n",
    "    return model"
   ],
   "id": "e0f14a3cd8829ef1",
   "outputs": [],
   "execution_count": 2
  },
  {
   "metadata": {
    "ExecuteTime": {
     "end_time": "2025-05-08T02:23:30.362320Z",
     "start_time": "2025-05-08T02:08:09.527705Z"
    }
   },
   "cell_type": "code",
   "source": [
    "\n",
    "defaults = get_dataset_args()\n",
    "\n",
    "defaults.num_samples = 40000\n",
    "\n",
    "data = make_dataset(defaults)\n",
    "x, y, t = data['x'], data['y'], data['t']\n",
    "x_test, y_test = data['x_test'], data['y_test']\n",
    "\n",
    "print(x.shape, y.shape)\n",
    "print(x_test.shape, y_test.shape)\n",
    "\n",
    "input_size = x.shape[1]\n",
    "num_classes = len(set(y))\n",
    "print(\"Input size\", input_size)\n",
    "print(\"Number of classes\", num_classes)\n",
    "\n",
    "# testing data\n",
    "\n",
    "class_wise_data_test = [[] for _ in range(num_classes)]  # Create 10 separate lists\n",
    "\n",
    "for i in range(len(y)):\n",
    "    clas = int(y[i])\n",
    "    class_wise_data_test[clas].append((x[i], clas))\n",
    "\n",
    "# create dataset for each class\n",
    "class_datasets_test = {}\n",
    "for i in range(10):\n",
    "    sampled_data = class_wise_data_test[i]\n",
    "    class_datasets_test[i] = TensorDataset(torch.stack([torch.FloatTensor(item[0]) for item in sampled_data]),\n",
    "                                           torch.LongTensor([item[1] for item in sampled_data]))\n",
    "\n",
    "# create a dataloader for each class\n",
    "class_dataloaders_test = {}\n",
    "for i in range(10):\n",
    "    class_dataloaders_test[i] = DataLoader(class_datasets_test[i], batch_size=32, shuffle=True)\n",
    "\n",
    "class_wise_data = [[] for _ in range(num_classes)]  # Create 10 separate lists\n",
    "\n",
    "for i in range(len(y)):\n",
    "    clas = int(y[i])\n",
    "    class_wise_data[clas].append((x[i], clas))\n",
    "\n",
    "num_classes_iter = [10]\n",
    "learning_rate_iter = [1e-3]\n",
    "num_samples_iter = [1024]\n",
    "\n",
    "\n",
    "for num_samples in num_samples_iter:\n",
    "    for num_classes in num_classes_iter:\n",
    "        for lr in learning_rate_iter:\n",
    "            print(\"Starting experiment with the following parameters\")\n",
    "            print(num_samples, num_classes, lr)\n",
    "            save_path = \"results\" + str(num_samples) + \"_\" + str(num_classes) + \"_\" + str(lr) + \".csv\"\n",
    "            model = training_loop_verification(input_size, num_classes, class_wise_data, class_dataloaders_test, save_path, lr = lr, num_samples = num_samples)"
   ],
   "id": "fc68f92846a37f71",
   "outputs": [
    {
     "name": "stdout",
     "output_type": "stream",
     "text": [
      "(32000, 40) (32000,)\n",
      "(8000, 40) (8000,)\n",
      "Input size 40\n",
      "Number of classes 10\n",
      "Starting experiment with the following parameters\n",
      "1024 10 0.001\n"
     ]
    }
   ],
   "execution_count": 3
  },
  {
   "metadata": {
    "ExecuteTime": {
     "end_time": "2025-05-08T02:23:30.401266Z",
     "start_time": "2025-05-08T02:23:30.395485Z"
    }
   },
   "cell_type": "code",
   "source": [
    "# Test the model on the entire test set\n",
    "model.eval()\n",
    "# First create a TensorDataset from your test data\n",
    "test_dataset = TensorDataset(torch.FloatTensor(x_test), torch.LongTensor(y_test))\n",
    "\n",
    "# Then create the DataLoader from the dataset\n",
    "test_dataloader = DataLoader(test_dataset, batch_size=32, shuffle=False)\n"
   ],
   "id": "504f3a79bbfbc782",
   "outputs": [],
   "execution_count": 4
  },
  {
   "metadata": {
    "ExecuteTime": {
     "end_time": "2025-05-08T02:23:30.509494Z",
     "start_time": "2025-05-08T02:23:30.455637Z"
    }
   },
   "cell_type": "code",
   "source": [
    "with torch.no_grad():\n",
    "    correct = 0\n",
    "    total = 0\n",
    "    for images, labels in test_dataloader:\n",
    "        images = images\n",
    "        labels = labels\n",
    "        outputs = model(images)\n",
    "        _, predicted = torch.max(outputs.data, 1)\n",
    "        total += labels.size(0)\n",
    "        correct += (predicted == labels).sum().item()\n",
    "\n",
    "    print('Accuracy of the model on the test images: %d %%' % (100 * correct / total))"
   ],
   "id": "53812c0b5317b92",
   "outputs": [
    {
     "name": "stdout",
     "output_type": "stream",
     "text": [
      "Accuracy of the model on the test images: 86 %\n"
     ]
    }
   ],
   "execution_count": 5
  },
  {
   "metadata": {
    "ExecuteTime": {
     "end_time": "2025-05-08T02:23:30.572184Z",
     "start_time": "2025-05-08T02:23:30.569663Z"
    }
   },
   "cell_type": "code",
   "source": [
    "# SAve the model weights\n",
    "torch.save(model.state_dict(), \"ten_class_best_cyclic_weights.pt\")"
   ],
   "id": "aa865e6bf6dddd56",
   "outputs": [],
   "execution_count": 6
  },
  {
   "metadata": {},
   "cell_type": "code",
   "outputs": [],
   "execution_count": null,
   "source": "",
   "id": "2365e9671f19ba38"
  }
 ],
 "metadata": {
  "kernelspec": {
   "display_name": "Python 3",
   "language": "python",
   "name": "python3"
  },
  "language_info": {
   "codemirror_mode": {
    "name": "ipython",
    "version": 2
   },
   "file_extension": ".py",
   "mimetype": "text/x-python",
   "name": "python",
   "nbconvert_exporter": "python",
   "pygments_lexer": "ipython2",
   "version": "2.7.6"
  }
 },
 "nbformat": 4,
 "nbformat_minor": 5
}
